{
 "cells": [
  {
   "cell_type": "markdown",
   "id": "8780b09c-4906-47bd-9db3-8742f0c58923",
   "metadata": {
    "tags": []
   },
   "source": [
    "<h1 align='center'> Data Cleaning </h1>"
   ]
  },
  {
   "cell_type": "markdown",
   "id": "08e75f50-0c4a-4499-960a-386e01b187ab",
   "metadata": {
    "tags": []
   },
   "source": [
    "# Import Libraires and Jobs Data"
   ]
  },
  {
   "cell_type": "code",
   "execution_count": 1,
   "id": "4de2257b-8e71-4209-8b76-8fbcad4065e4",
   "metadata": {},
   "outputs": [],
   "source": [
    "import pandas as pd\n",
    "import re"
   ]
  },
  {
   "cell_type": "code",
   "execution_count": 6,
   "id": "9d0bfe36-5cfc-42c7-b482-644440347f15",
   "metadata": {},
   "outputs": [
    {
     "data": {
      "text/html": [
       "<div>\n",
       "<style scoped>\n",
       "    .dataframe tbody tr th:only-of-type {\n",
       "        vertical-align: middle;\n",
       "    }\n",
       "\n",
       "    .dataframe tbody tr th {\n",
       "        vertical-align: top;\n",
       "    }\n",
       "\n",
       "    .dataframe thead th {\n",
       "        text-align: right;\n",
       "    }\n",
       "</style>\n",
       "<table border=\"1\" class=\"dataframe\">\n",
       "  <thead>\n",
       "    <tr style=\"text-align: right;\">\n",
       "      <th></th>\n",
       "      <th>Job Title</th>\n",
       "      <th>Salary Estimate</th>\n",
       "      <th>Job Description</th>\n",
       "      <th>Rating</th>\n",
       "      <th>Company Name</th>\n",
       "      <th>Location</th>\n",
       "      <th>Size</th>\n",
       "      <th>Founded</th>\n",
       "      <th>Type of ownership</th>\n",
       "      <th>Industry</th>\n",
       "      <th>Sector</th>\n",
       "      <th>Revenue</th>\n",
       "    </tr>\n",
       "  </thead>\n",
       "  <tbody>\n",
       "    <tr>\n",
       "      <th>0</th>\n",
       "      <td>Pocket J TDL SME</td>\n",
       "      <td>-1</td>\n",
       "      <td>As a contractor focused on logistics support f...</td>\n",
       "      <td>-1.0</td>\n",
       "      <td>Filius Corporation</td>\n",
       "      <td>Remote</td>\n",
       "      <td>-1</td>\n",
       "      <td>-1</td>\n",
       "      <td>-1</td>\n",
       "      <td>-1</td>\n",
       "      <td>-1</td>\n",
       "      <td>-1</td>\n",
       "    </tr>\n",
       "    <tr>\n",
       "      <th>1</th>\n",
       "      <td>2024041 Data Scientist $195,000.00</td>\n",
       "      <td>Employer Provided Salary:$195K</td>\n",
       "      <td>Position Requires a Top Secret (TS/SCI) Cleara...</td>\n",
       "      <td>5.0</td>\n",
       "      <td>B4CORP\\n5.0</td>\n",
       "      <td>Chantilly, VA</td>\n",
       "      <td>51 to 200 Employees</td>\n",
       "      <td>-1</td>\n",
       "      <td>Company - Private</td>\n",
       "      <td>Information Technology Support Services</td>\n",
       "      <td>Information Technology</td>\n",
       "      <td>Unknown / Non-Applicable</td>\n",
       "    </tr>\n",
       "    <tr>\n",
       "      <th>2</th>\n",
       "      <td>Data Analyst Co-Op</td>\n",
       "      <td>$65K - $91K (Glassdoor est.)</td>\n",
       "      <td>**This position is a temporary 8-month co-op a...</td>\n",
       "      <td>3.8</td>\n",
       "      <td>Emerson\\n3.8</td>\n",
       "      <td>Marshalltown, IA</td>\n",
       "      <td>10000+ Employees</td>\n",
       "      <td>1890</td>\n",
       "      <td>Company - Public</td>\n",
       "      <td>Electronics Manufacturing</td>\n",
       "      <td>Manufacturing</td>\n",
       "      <td>$10+ billion (USD)</td>\n",
       "    </tr>\n",
       "    <tr>\n",
       "      <th>3</th>\n",
       "      <td>Sr Business Analyst, Data Science (remote)</td>\n",
       "      <td>$75K - $102K (Glassdoor est.)</td>\n",
       "      <td>Gallagher Bassett is seeking a seasoned Senior...</td>\n",
       "      <td>3.6</td>\n",
       "      <td>Gallagher\\n3.6</td>\n",
       "      <td>Rolling Meadows, IL</td>\n",
       "      <td>10000+ Employees</td>\n",
       "      <td>1927</td>\n",
       "      <td>Company - Public</td>\n",
       "      <td>Insurance Agencies &amp; Brokerages</td>\n",
       "      <td>Insurance</td>\n",
       "      <td>$1 to $5 billion (USD)</td>\n",
       "    </tr>\n",
       "    <tr>\n",
       "      <th>4</th>\n",
       "      <td>Implementation and Data Services Analyst Core</td>\n",
       "      <td>$55K - $75K (Glassdoor est.)</td>\n",
       "      <td>Gallagher Bassett is the premier provider of g...</td>\n",
       "      <td>3.6</td>\n",
       "      <td>Gallagher\\n3.6</td>\n",
       "      <td>Rolling Meadows, IL</td>\n",
       "      <td>10000+ Employees</td>\n",
       "      <td>1927</td>\n",
       "      <td>Company - Public</td>\n",
       "      <td>Insurance Agencies &amp; Brokerages</td>\n",
       "      <td>Insurance</td>\n",
       "      <td>$1 to $5 billion (USD)</td>\n",
       "    </tr>\n",
       "    <tr>\n",
       "      <th>...</th>\n",
       "      <td>...</td>\n",
       "      <td>...</td>\n",
       "      <td>...</td>\n",
       "      <td>...</td>\n",
       "      <td>...</td>\n",
       "      <td>...</td>\n",
       "      <td>...</td>\n",
       "      <td>...</td>\n",
       "      <td>...</td>\n",
       "      <td>...</td>\n",
       "      <td>...</td>\n",
       "      <td>...</td>\n",
       "    </tr>\n",
       "    <tr>\n",
       "      <th>1793</th>\n",
       "      <td>Data Scientist – Customer Analytics</td>\n",
       "      <td>-1</td>\n",
       "      <td>Collaborate &amp; Communicate:\\nWork closely with ...</td>\n",
       "      <td>1.0</td>\n",
       "      <td>Envision\\n1.0</td>\n",
       "      <td>Remote</td>\n",
       "      <td>Unknown</td>\n",
       "      <td>-1</td>\n",
       "      <td>Company - Private</td>\n",
       "      <td>-1</td>\n",
       "      <td>-1</td>\n",
       "      <td>Unknown / Non-Applicable</td>\n",
       "    </tr>\n",
       "    <tr>\n",
       "      <th>1794</th>\n",
       "      <td>Senior Data Scientist</td>\n",
       "      <td>-1</td>\n",
       "      <td>Job Summary: Aptive is seeking a Senior Data S...</td>\n",
       "      <td>4.0</td>\n",
       "      <td>Aptive\\n4.0</td>\n",
       "      <td>Remote</td>\n",
       "      <td>201 to 500 Employees</td>\n",
       "      <td>2012</td>\n",
       "      <td>Company - Private</td>\n",
       "      <td>Business Consulting</td>\n",
       "      <td>Management &amp; Consulting</td>\n",
       "      <td>$25 to $100 million (USD)</td>\n",
       "    </tr>\n",
       "    <tr>\n",
       "      <th>1795</th>\n",
       "      <td>Data Scientist</td>\n",
       "      <td>Employer Provided Salary:$110K - $120K</td>\n",
       "      <td>Operation HOPE sees social justice through an ...</td>\n",
       "      <td>3.3</td>\n",
       "      <td>Operation Hope\\n3.3</td>\n",
       "      <td>Atlanta, GA</td>\n",
       "      <td>1 to 50 Employees</td>\n",
       "      <td>-1</td>\n",
       "      <td>Nonprofit Organization</td>\n",
       "      <td>-1</td>\n",
       "      <td>-1</td>\n",
       "      <td>$1 to $5 million (USD)</td>\n",
       "    </tr>\n",
       "    <tr>\n",
       "      <th>1796</th>\n",
       "      <td>Data Scientist - Telecommute</td>\n",
       "      <td>$95K - $131K (Glassdoor est.)</td>\n",
       "      <td>The Data Scientist 2 role is an exciting, dyna...</td>\n",
       "      <td>3.6</td>\n",
       "      <td>UnitedHealthcare\\n3.6</td>\n",
       "      <td>Boston, MA</td>\n",
       "      <td>10000+ Employees</td>\n",
       "      <td>1977</td>\n",
       "      <td>Company - Public</td>\n",
       "      <td>Health Care Services &amp; Hospitals</td>\n",
       "      <td>Healthcare</td>\n",
       "      <td>$10+ billion (USD)</td>\n",
       "    </tr>\n",
       "    <tr>\n",
       "      <th>1797</th>\n",
       "      <td>Data Scientist</td>\n",
       "      <td>$77K - $117K (Glassdoor est.)</td>\n",
       "      <td>There are over 7 billion people on this planet...</td>\n",
       "      <td>4.1</td>\n",
       "      <td>John Deere\\n4.1</td>\n",
       "      <td>Waterloo, IA</td>\n",
       "      <td>10000+ Employees</td>\n",
       "      <td>1837</td>\n",
       "      <td>Company - Public</td>\n",
       "      <td>Machinery Manufacturing</td>\n",
       "      <td>Manufacturing</td>\n",
       "      <td>$10+ billion (USD)</td>\n",
       "    </tr>\n",
       "  </tbody>\n",
       "</table>\n",
       "<p>1798 rows × 12 columns</p>\n",
       "</div>"
      ],
      "text/plain": [
       "                                          Job Title  \\\n",
       "0                                  Pocket J TDL SME   \n",
       "1                2024041 Data Scientist $195,000.00   \n",
       "2                                Data Analyst Co-Op   \n",
       "3        Sr Business Analyst, Data Science (remote)   \n",
       "4     Implementation and Data Services Analyst Core   \n",
       "...                                             ...   \n",
       "1793            Data Scientist – Customer Analytics   \n",
       "1794                          Senior Data Scientist   \n",
       "1795                                 Data Scientist   \n",
       "1796                   Data Scientist - Telecommute   \n",
       "1797                                 Data Scientist   \n",
       "\n",
       "                             Salary Estimate  \\\n",
       "0                                         -1   \n",
       "1             Employer Provided Salary:$195K   \n",
       "2               $65K - $91K (Glassdoor est.)   \n",
       "3              $75K - $102K (Glassdoor est.)   \n",
       "4               $55K - $75K (Glassdoor est.)   \n",
       "...                                      ...   \n",
       "1793                                      -1   \n",
       "1794                                      -1   \n",
       "1795  Employer Provided Salary:$110K - $120K   \n",
       "1796           $95K - $131K (Glassdoor est.)   \n",
       "1797           $77K - $117K (Glassdoor est.)   \n",
       "\n",
       "                                        Job Description  Rating  \\\n",
       "0     As a contractor focused on logistics support f...    -1.0   \n",
       "1     Position Requires a Top Secret (TS/SCI) Cleara...     5.0   \n",
       "2     **This position is a temporary 8-month co-op a...     3.8   \n",
       "3     Gallagher Bassett is seeking a seasoned Senior...     3.6   \n",
       "4     Gallagher Bassett is the premier provider of g...     3.6   \n",
       "...                                                 ...     ...   \n",
       "1793  Collaborate & Communicate:\\nWork closely with ...     1.0   \n",
       "1794  Job Summary: Aptive is seeking a Senior Data S...     4.0   \n",
       "1795  Operation HOPE sees social justice through an ...     3.3   \n",
       "1796  The Data Scientist 2 role is an exciting, dyna...     3.6   \n",
       "1797  There are over 7 billion people on this planet...     4.1   \n",
       "\n",
       "               Company Name             Location                  Size  \\\n",
       "0        Filius Corporation               Remote                    -1   \n",
       "1               B4CORP\\n5.0        Chantilly, VA   51 to 200 Employees   \n",
       "2              Emerson\\n3.8     Marshalltown, IA      10000+ Employees   \n",
       "3            Gallagher\\n3.6  Rolling Meadows, IL      10000+ Employees   \n",
       "4            Gallagher\\n3.6  Rolling Meadows, IL      10000+ Employees   \n",
       "...                     ...                  ...                   ...   \n",
       "1793          Envision\\n1.0               Remote               Unknown   \n",
       "1794            Aptive\\n4.0               Remote  201 to 500 Employees   \n",
       "1795    Operation Hope\\n3.3          Atlanta, GA     1 to 50 Employees   \n",
       "1796  UnitedHealthcare\\n3.6           Boston, MA      10000+ Employees   \n",
       "1797        John Deere\\n4.1         Waterloo, IA      10000+ Employees   \n",
       "\n",
       "      Founded       Type of ownership  \\\n",
       "0          -1                      -1   \n",
       "1          -1       Company - Private   \n",
       "2        1890        Company - Public   \n",
       "3        1927        Company - Public   \n",
       "4        1927        Company - Public   \n",
       "...       ...                     ...   \n",
       "1793       -1       Company - Private   \n",
       "1794     2012       Company - Private   \n",
       "1795       -1  Nonprofit Organization   \n",
       "1796     1977        Company - Public   \n",
       "1797     1837        Company - Public   \n",
       "\n",
       "                                     Industry                   Sector  \\\n",
       "0                                          -1                       -1   \n",
       "1     Information Technology Support Services   Information Technology   \n",
       "2                   Electronics Manufacturing            Manufacturing   \n",
       "3             Insurance Agencies & Brokerages                Insurance   \n",
       "4             Insurance Agencies & Brokerages                Insurance   \n",
       "...                                       ...                      ...   \n",
       "1793                                       -1                       -1   \n",
       "1794                      Business Consulting  Management & Consulting   \n",
       "1795                                       -1                       -1   \n",
       "1796         Health Care Services & Hospitals               Healthcare   \n",
       "1797                  Machinery Manufacturing            Manufacturing   \n",
       "\n",
       "                        Revenue  \n",
       "0                            -1  \n",
       "1      Unknown / Non-Applicable  \n",
       "2            $10+ billion (USD)  \n",
       "3        $1 to $5 billion (USD)  \n",
       "4        $1 to $5 billion (USD)  \n",
       "...                         ...  \n",
       "1793   Unknown / Non-Applicable  \n",
       "1794  $25 to $100 million (USD)  \n",
       "1795     $1 to $5 million (USD)  \n",
       "1796         $10+ billion (USD)  \n",
       "1797         $10+ billion (USD)  \n",
       "\n",
       "[1798 rows x 12 columns]"
      ]
     },
     "execution_count": 6,
     "metadata": {},
     "output_type": "execute_result"
    }
   ],
   "source": [
    "data_analyst_jobs = pd.read_csv('data_analyst_jobs.csv')\n",
    "data_scientist_jobs = pd.read_csv('data_scientist_jobs.csv')\n",
    "df = pd.concat([data_analyst_jobs, data_scientist_jobs], ignore_index=True)\n",
    "df"
   ]
  },
  {
   "cell_type": "markdown",
   "id": "70ad8ea3-0c1e-44af-b844-8d750fbfedd6",
   "metadata": {
    "tags": []
   },
   "source": [
    "# Rename Columns"
   ]
  },
  {
   "cell_type": "code",
   "execution_count": 7,
   "id": "31902f77-95b5-4568-b3b2-020f80b8fb7c",
   "metadata": {},
   "outputs": [
    {
     "data": {
      "text/plain": [
       "['job_title',\n",
       " 'salary_estimate',\n",
       " 'job_description',\n",
       " 'rating',\n",
       " 'company_name',\n",
       " 'location',\n",
       " 'size',\n",
       " 'founded',\n",
       " 'type_of_ownership',\n",
       " 'industry',\n",
       " 'sector',\n",
       " 'revenue']"
      ]
     },
     "execution_count": 7,
     "metadata": {},
     "output_type": "execute_result"
    }
   ],
   "source": [
    "# lowercase and replace space with _\n",
    "col_name = list(df.columns)\n",
    "df.columns = [name.lower().replace(' ', '_') for name in col_name]\n",
    "list(df.columns)"
   ]
  },
  {
   "cell_type": "markdown",
   "id": "f1b1605d-a593-4505-9bd0-3190db11b331",
   "metadata": {
    "tags": []
   },
   "source": [
    "# Data Cleaning"
   ]
  },
  {
   "cell_type": "markdown",
   "id": "044fc8cd-c33a-44ad-a66d-c2872618e0a8",
   "metadata": {},
   "source": [
    "## ***`job_title`***\n",
    "- Change the value of *`location`* to *Remote* if it appears in *`job_title`*.\n",
    "- Create a new column *`seniority`* with 3 values : *NA*, *Low*, and *High*.\n",
    "- Simplified *`job_title`* to 6 values : *NA*, *Data Analyst*, *Data Scientist*, *Data Engineer*, *ML Engineer*, and *Manager*."
   ]
  },
  {
   "cell_type": "code",
   "execution_count": 54,
   "id": "a2159563-4d38-4e09-925e-c39952684915",
   "metadata": {},
   "outputs": [],
   "source": [
    "def remote(row):\n",
    "    row['job_title'] = row['job_title'].lower()\n",
    "    if 'remote' in row['job_title']:\n",
    "        row['location'] = 'Remote'\n",
    "    return row\n",
    "\n",
    "def seniority(title):\n",
    "    title = title.lower()\n",
    "    if 'sr' in title or 'senior' in title or 'mid' in title or 'experienced' in title or\\\n",
    "    'lead' in title or 'manager' in title or 'principal' in title or 'director' in title: \n",
    "        return 'High'\n",
    "    elif 'jr' in title or 'junior' in title or 'entry' in title or 'associate' in title:\n",
    "        return 'Low'\n",
    "    else:\n",
    "        return 'NA'\n",
    "    \n",
    "def title_simplify(title):\n",
    "    title = title.lower()\n",
    "    if 'analyst' in title:\n",
    "        return 'Data Analyst'\n",
    "    elif 'data scientist' in title or 'data science' in title:\n",
    "        return 'Data Scientist'\n",
    "    elif 'Data Engineer' in title:\n",
    "        return 'data engineer'\n",
    "    elif 'machine learning' in title or 'deep learning' in title or 'ai' in title or 'ml' in title:\n",
    "        return 'ML Engineer'\n",
    "    elif 'lead' in title or 'manager' in title or 'principal' in title or 'director' in title:\n",
    "        return 'Manager'\n",
    "    else:\n",
    "        return 'NA'    "
   ]
  },
  {
   "cell_type": "code",
   "execution_count": 56,
   "id": "4c027d3b-911a-489b-9974-619bf8669e40",
   "metadata": {},
   "outputs": [
    {
     "name": "stdout",
     "output_type": "stream",
     "text": [
      "Data Scientist    944\n",
      "Data Analyst      802\n",
      "NA                 50\n",
      "ML Engineer         2\n",
      "Name: job_title, dtype: int64\n",
      "\n",
      "\n",
      "NA      1372\n",
      "High     330\n",
      "Low       96\n",
      "Name: seniority, dtype: int64\n"
     ]
    }
   ],
   "source": [
    "# change the value of location to Remote if it appears in job_title\n",
    "df = df.apply(remote, axis=1)\n",
    "\n",
    "# create a new column seniority with 3 values : NA, Low, and High   \n",
    "df['seniority'] = df['job_title'].apply(seniority)\n",
    "\n",
    "# simplified job_title to 6 values : NA, Data Analyst, Data Scientist, Data Engineer, ML Engineer, and Manager\n",
    "df['job_title'] = df['job_title'].apply(title_simplify)\n",
    "\n",
    "# check results\n",
    "print(df['job_title'].value_counts())\n",
    "print('\\n')\n",
    "print(df['seniority'].value_counts())"
   ]
  },
  {
   "cell_type": "markdown",
   "id": "0dd2514e-2299-4a03-aaaf-df94f3663b1d",
   "metadata": {
    "tags": []
   },
   "source": [
    "## ***`salary_estimate`***\n",
    "- *`salary_estimate`* is the target value, so remove the record when it is *-1*.\n",
    "- Create a new column *`employer_provided_salary`*: *1* if the string contains *Employer Provided Salary*, otherwise *0*.\n",
    "- Create a new column *`hourly_wage`*: *1* if the string contains *Per Hour*, otherwise *0*.\n",
    "- Clean the string, keeping numbers and dash only.\n",
    "- Create new columns *`salary_min`*, *`salary_max`* from both sides of dash (turn into float type).\n",
    "- Transfer the salary from hourly to yearly by multiplying 2000 (if *`hourly_wage`* is *1*).\n",
    "- Create a new column *`salary_avg`* by averaging *`salary_min`* and *`salary_max`*."
   ]
  },
  {
   "cell_type": "code",
   "execution_count": 64,
   "id": "421cabe7-bdd7-4aad-92ef-f0436e17334a",
   "metadata": {},
   "outputs": [
    {
     "data": {
      "text/plain": [
       "Employer Provided Salary:$65.00 - $85.00 Per Hour     3\n",
       "$87K - $131K (Glassdoor est.)                         3\n",
       "$53K - $81K (Glassdoor est.)                          3\n",
       "Employer Provided Salary:$122K - $171K                3\n",
       "Employer Provided Salary:$70K - $85K                  3\n",
       "$91K - $126K (Glassdoor est.)                         3\n",
       "$52K - $77K (Glassdoor est.)                          3\n",
       "Employer Provided Salary:$50K                         3\n",
       "$98K - $146K (Glassdoor est.)                         3\n",
       "Employer Provided Salary:$70.00 - $76.00 Per Hour     3\n",
       "Employer Provided Salary:$60K - $75K                  3\n",
       "Employer Provided Salary:$70K - $90K                  3\n",
       "Employer Provided Salary:$50K - $65K                  3\n",
       "Employer Provided Salary:$115K - $145K                3\n",
       "Employer Provided Salary:$140K - $230K                2\n",
       "Employer Provided Salary:$160K - $175K                2\n",
       "$103K - $156K (Glassdoor est.)                        2\n",
       "$58K - $87K (Glassdoor est.)                          2\n",
       "Employer Provided Salary:$170K - $200K                2\n",
       "Employer Provided Salary:$135K - $175K                2\n",
       "$72K - $113K (Glassdoor est.)                         2\n",
       "Employer Provided Salary:$102K - $151K                2\n",
       "$79K - $119K (Glassdoor est.)                         2\n",
       "$82K - $129K (Glassdoor est.)                         2\n",
       "$108K - $151K (Glassdoor est.)                        2\n",
       "Employer Provided Salary:$140K - $280K                2\n",
       "Employer Provided Salary:$83K - $142K                 2\n",
       "Employer Provided Salary:$53.71 Per Hour              2\n",
       "$87K - $125K (Glassdoor est.)                         1\n",
       "Employer Provided Salary:$70.00 - $120.00 Per Hour    1\n",
       "$72K - $105K (Glassdoor est.)                         1\n",
       "Employer Provided Salary:$87K - $98K                  1\n",
       "$80K - $125K (Glassdoor est.)                         1\n",
       "$83K - $126K (Glassdoor est.)                         1\n",
       "$75K - $114K (Glassdoor est.)                         1\n",
       "$68K - $107K (Glassdoor est.)                         1\n",
       "Employer Provided Salary:$110K                        1\n",
       "Employer Provided Salary:$65K - $80K                  1\n",
       "Employer Provided Salary:$35.00 - $55.00 Per Hour     1\n",
       "$96K - $150K (Glassdoor est.)                         1\n",
       "Employer Provided Salary:$130K - $300K                1\n",
       "Employer Provided Salary:$130K - $140K                1\n",
       "Employer Provided Salary:$140K - $220K                1\n",
       "Employer Provided Salary:$96K - $220K                 1\n",
       "Employer Provided Salary:$160K - $200K                1\n",
       "Employer Provided Salary:$75.00 - $85.00 Per Hour     1\n",
       "Employer Provided Salary:$60.00 Per Hour              1\n",
       "Employer Provided Salary:$35.00 - $60.00 Per Hour     1\n",
       "$47K - $67K (Glassdoor est.)                          1\n",
       "Employer Provided Salary:$90.00 Per Hour              1\n",
       "$76K - $112K (Glassdoor est.)                         1\n",
       "$64K - $92K (Glassdoor est.)                          1\n",
       "Employer Provided Salary:$29.13 - $47.19 Per Hour     1\n",
       "$67K - $91K (Glassdoor est.)                          1\n",
       "Employer Provided Salary:$125K - $190K                1\n",
       "$77K - $125K (Glassdoor est.)                         1\n",
       "Employer Provided Salary:$58K - $116K                 1\n",
       "$55K - $76K (Glassdoor est.)                          1\n",
       "Employer Provided Salary:$50.00 - $55.00 Per Hour     1\n",
       "Employer Provided Salary:$40.00 - $45.00 Per Hour     1\n",
       "Name: salary_estimate, dtype: int64"
      ]
     },
     "execution_count": 64,
     "metadata": {},
     "output_type": "execute_result"
    }
   ],
   "source": [
    "df['salary_estimate'].value_counts()[60:120]"
   ]
  },
  {
   "cell_type": "code",
   "execution_count": null,
   "id": "6cf324fb-89fb-4feb-b97d-a707da1d7d47",
   "metadata": {},
   "outputs": [],
   "source": []
  },
  {
   "cell_type": "code",
   "execution_count": null,
   "id": "63d1cedc-3dbb-4429-a18f-230fea96f542",
   "metadata": {},
   "outputs": [],
   "source": []
  },
  {
   "cell_type": "code",
   "execution_count": null,
   "id": "5b880184-ff80-46be-a028-ab1dc28dfbe6",
   "metadata": {},
   "outputs": [],
   "source": [
    "# Employer est. 1, oherwise 0\n",
    "# hourly 1, otherwise 0"
   ]
  },
  {
   "cell_type": "code",
   "execution_count": null,
   "id": "92bad0ea-16e8-4206-846c-782177f3256b",
   "metadata": {},
   "outputs": [],
   "source": []
  },
  {
   "cell_type": "code",
   "execution_count": null,
   "id": "b4f03842-a973-465b-b3eb-ecfedfcb4fbe",
   "metadata": {},
   "outputs": [],
   "source": []
  },
  {
   "cell_type": "code",
   "execution_count": 6,
   "id": "0e1443d3-46f2-41dc-bc04-d3df6d8b4a53",
   "metadata": {
    "tags": []
   },
   "outputs": [
    {
     "data": {
      "text/plain": [
       "118-189    360\n",
       "127-127    340\n",
       "135-175     60\n",
       "127-203     30\n",
       "96-131      30\n",
       "77-116      30\n",
       "113-177     30\n",
       "104-167     30\n",
       "86-132      30\n",
       "92-131      30\n",
       "97-155      30\n",
       "Name: salary_estimate, dtype: int64"
      ]
     },
     "execution_count": 6,
     "metadata": {},
     "output_type": "execute_result"
    }
   ],
   "source": [
    "# clean salary (only keep numbers and -)\n",
    "salary = df['salary_estimate'].str.extract('(.*) \\(')[0]\n",
    "salary = salary.str.replace('[$K ]*', '', regex=True)\n",
    "# 127 -> 127-127\n",
    "salary = salary.str.replace('^127(?!.)', '127-127', regex=True)\n",
    "\n",
    "df['salary_estimate'] = salary\n",
    "\n",
    "# check results\n",
    "df['salary_estimate'].value_counts()"
   ]
  },
  {
   "cell_type": "code",
   "execution_count": 7,
   "id": "ffb0cf3b-5558-4cb4-b147-9e51dbef0295",
   "metadata": {},
   "outputs": [
    {
     "data": {
      "text/html": [
       "<div>\n",
       "<style scoped>\n",
       "    .dataframe tbody tr th:only-of-type {\n",
       "        vertical-align: middle;\n",
       "    }\n",
       "\n",
       "    .dataframe tbody tr th {\n",
       "        vertical-align: top;\n",
       "    }\n",
       "\n",
       "    .dataframe thead th {\n",
       "        text-align: right;\n",
       "    }\n",
       "</style>\n",
       "<table border=\"1\" class=\"dataframe\">\n",
       "  <thead>\n",
       "    <tr style=\"text-align: right;\">\n",
       "      <th></th>\n",
       "      <th>job_title</th>\n",
       "      <th>job_description</th>\n",
       "      <th>rating</th>\n",
       "      <th>company_name</th>\n",
       "      <th>location</th>\n",
       "      <th>headquarters</th>\n",
       "      <th>size</th>\n",
       "      <th>founded</th>\n",
       "      <th>type_of_ownership</th>\n",
       "      <th>industry</th>\n",
       "      <th>sector</th>\n",
       "      <th>revenue</th>\n",
       "      <th>competitors</th>\n",
       "      <th>seniority</th>\n",
       "      <th>salary_min</th>\n",
       "      <th>salary_max</th>\n",
       "      <th>salary_avg</th>\n",
       "    </tr>\n",
       "  </thead>\n",
       "  <tbody>\n",
       "    <tr>\n",
       "      <th>0</th>\n",
       "      <td>na</td>\n",
       "      <td>About the team\\nZEXP is hiring an Applied Scie...</td>\n",
       "      <td>3.9</td>\n",
       "      <td>Zillow\\n3.9</td>\n",
       "      <td>Remote</td>\n",
       "      <td>-1</td>\n",
       "      <td>5001 to 10000 Employees</td>\n",
       "      <td>2005</td>\n",
       "      <td>Company - Public</td>\n",
       "      <td>Real Estate</td>\n",
       "      <td>Real Estate</td>\n",
       "      <td>$1 to $5 billion (USD)</td>\n",
       "      <td>-1</td>\n",
       "      <td>na</td>\n",
       "      <td>127</td>\n",
       "      <td>203</td>\n",
       "      <td>165.0</td>\n",
       "    </tr>\n",
       "    <tr>\n",
       "      <th>1</th>\n",
       "      <td>data scientist</td>\n",
       "      <td>Position Purpose:\\nThe Data Scientist is respo...</td>\n",
       "      <td>3.8</td>\n",
       "      <td>The Home Depot\\n3.8</td>\n",
       "      <td>Atlanta, GA</td>\n",
       "      <td>-1</td>\n",
       "      <td>10000+ Employees</td>\n",
       "      <td>1978</td>\n",
       "      <td>Company - Public</td>\n",
       "      <td>Home Furniture &amp; Housewares Stores</td>\n",
       "      <td>Retail &amp; Wholesale</td>\n",
       "      <td>$10+ billion (USD)</td>\n",
       "      <td>-1</td>\n",
       "      <td>na</td>\n",
       "      <td>127</td>\n",
       "      <td>203</td>\n",
       "      <td>165.0</td>\n",
       "    </tr>\n",
       "    <tr>\n",
       "      <th>2</th>\n",
       "      <td>data scientist</td>\n",
       "      <td>YOUR LIFE'S MISSION: POSSIBLE\\nYou have goals,...</td>\n",
       "      <td>4.1</td>\n",
       "      <td>Navy Federal Credit Union\\n4.1</td>\n",
       "      <td>Vienna, VA</td>\n",
       "      <td>-1</td>\n",
       "      <td>10000+ Employees</td>\n",
       "      <td>1933</td>\n",
       "      <td>Self-employed</td>\n",
       "      <td>Banking &amp; Lending</td>\n",
       "      <td>Financial Services</td>\n",
       "      <td>Unknown / Non-Applicable</td>\n",
       "      <td>-1</td>\n",
       "      <td>na</td>\n",
       "      <td>127</td>\n",
       "      <td>203</td>\n",
       "      <td>165.0</td>\n",
       "    </tr>\n",
       "    <tr>\n",
       "      <th>3</th>\n",
       "      <td>na</td>\n",
       "      <td>We would like to invite you to Sanofi’s mRNA V...</td>\n",
       "      <td>3.9</td>\n",
       "      <td>Sanofi\\n3.9</td>\n",
       "      <td>Waltham, MA</td>\n",
       "      <td>-1</td>\n",
       "      <td>10000+ Employees</td>\n",
       "      <td>1973</td>\n",
       "      <td>Company - Public</td>\n",
       "      <td>Biotech &amp; Pharmaceuticals</td>\n",
       "      <td>Pharmaceutical &amp; Biotechnology</td>\n",
       "      <td>$10+ billion (USD)</td>\n",
       "      <td>-1</td>\n",
       "      <td>na</td>\n",
       "      <td>127</td>\n",
       "      <td>203</td>\n",
       "      <td>165.0</td>\n",
       "    </tr>\n",
       "    <tr>\n",
       "      <th>4</th>\n",
       "      <td>data scientist</td>\n",
       "      <td>About care.ai\\ncare.ai is the leading provider...</td>\n",
       "      <td>-1.0</td>\n",
       "      <td>care.ai</td>\n",
       "      <td>Remote</td>\n",
       "      <td>-1</td>\n",
       "      <td>-1</td>\n",
       "      <td>-1</td>\n",
       "      <td>-1</td>\n",
       "      <td>-1</td>\n",
       "      <td>-1</td>\n",
       "      <td>-1</td>\n",
       "      <td>-1</td>\n",
       "      <td>na</td>\n",
       "      <td>127</td>\n",
       "      <td>203</td>\n",
       "      <td>165.0</td>\n",
       "    </tr>\n",
       "    <tr>\n",
       "      <th>...</th>\n",
       "      <td>...</td>\n",
       "      <td>...</td>\n",
       "      <td>...</td>\n",
       "      <td>...</td>\n",
       "      <td>...</td>\n",
       "      <td>...</td>\n",
       "      <td>...</td>\n",
       "      <td>...</td>\n",
       "      <td>...</td>\n",
       "      <td>...</td>\n",
       "      <td>...</td>\n",
       "      <td>...</td>\n",
       "      <td>...</td>\n",
       "      <td>...</td>\n",
       "      <td>...</td>\n",
       "      <td>...</td>\n",
       "      <td>...</td>\n",
       "    </tr>\n",
       "    <tr>\n",
       "      <th>995</th>\n",
       "      <td>data scientist</td>\n",
       "      <td>The Home Depot is able to offer virtual employ...</td>\n",
       "      <td>3.8</td>\n",
       "      <td>The Home Depot\\n3.8</td>\n",
       "      <td>Atlanta, GA</td>\n",
       "      <td>-1</td>\n",
       "      <td>10000+ Employees</td>\n",
       "      <td>1978</td>\n",
       "      <td>Company - Public</td>\n",
       "      <td>Home Furniture &amp; Housewares Stores</td>\n",
       "      <td>Retail &amp; Wholesale</td>\n",
       "      <td>$10+ billion (USD)</td>\n",
       "      <td>-1</td>\n",
       "      <td>senior</td>\n",
       "      <td>127</td>\n",
       "      <td>127</td>\n",
       "      <td>127.0</td>\n",
       "    </tr>\n",
       "    <tr>\n",
       "      <th>996</th>\n",
       "      <td>data scientist</td>\n",
       "      <td>JOB SUMMARY: Design, develop and evaluate adva...</td>\n",
       "      <td>4.0</td>\n",
       "      <td>Universal Orlando\\n4.0</td>\n",
       "      <td>Orlando, FL</td>\n",
       "      <td>-1</td>\n",
       "      <td>10000+ Employees</td>\n",
       "      <td>1987</td>\n",
       "      <td>Subsidiary or Business Segment</td>\n",
       "      <td>Hotels &amp; Resorts</td>\n",
       "      <td>Hotels &amp; Travel Accommodation</td>\n",
       "      <td>$1 to $5 billion (USD)</td>\n",
       "      <td>-1</td>\n",
       "      <td>na</td>\n",
       "      <td>127</td>\n",
       "      <td>127</td>\n",
       "      <td>127.0</td>\n",
       "    </tr>\n",
       "    <tr>\n",
       "      <th>997</th>\n",
       "      <td>data scientist</td>\n",
       "      <td>Overview\\n\\nGuidehouse is a leading global pro...</td>\n",
       "      <td>3.7</td>\n",
       "      <td>Guidehouse\\n3.7</td>\n",
       "      <td>Washington Harbor, WA</td>\n",
       "      <td>-1</td>\n",
       "      <td>1001 to 5000 Employees</td>\n",
       "      <td>2018</td>\n",
       "      <td>Company - Private</td>\n",
       "      <td>Business Consulting</td>\n",
       "      <td>Management &amp; Consulting</td>\n",
       "      <td>Unknown / Non-Applicable</td>\n",
       "      <td>-1</td>\n",
       "      <td>senior</td>\n",
       "      <td>127</td>\n",
       "      <td>127</td>\n",
       "      <td>127.0</td>\n",
       "    </tr>\n",
       "    <tr>\n",
       "      <th>998</th>\n",
       "      <td>data scientist</td>\n",
       "      <td>Location: 7000 Target Pkwy N, Brooklyn Park, M...</td>\n",
       "      <td>3.6</td>\n",
       "      <td>Target\\n3.6</td>\n",
       "      <td>Brooklyn Park, MN</td>\n",
       "      <td>-1</td>\n",
       "      <td>10000+ Employees</td>\n",
       "      <td>1962</td>\n",
       "      <td>Company - Public</td>\n",
       "      <td>General Merchandise &amp; Superstores</td>\n",
       "      <td>Retail &amp; Wholesale</td>\n",
       "      <td>$10+ billion (USD)</td>\n",
       "      <td>-1</td>\n",
       "      <td>senior</td>\n",
       "      <td>127</td>\n",
       "      <td>127</td>\n",
       "      <td>127.0</td>\n",
       "    </tr>\n",
       "    <tr>\n",
       "      <th>999</th>\n",
       "      <td>data scientist</td>\n",
       "      <td>Location: 7000 Target Pkwy N, Brooklyn Park, M...</td>\n",
       "      <td>3.6</td>\n",
       "      <td>Target\\n3.6</td>\n",
       "      <td>Brooklyn Park, MN</td>\n",
       "      <td>-1</td>\n",
       "      <td>10000+ Employees</td>\n",
       "      <td>1962</td>\n",
       "      <td>Company - Public</td>\n",
       "      <td>General Merchandise &amp; Superstores</td>\n",
       "      <td>Retail &amp; Wholesale</td>\n",
       "      <td>$10+ billion (USD)</td>\n",
       "      <td>-1</td>\n",
       "      <td>senior</td>\n",
       "      <td>127</td>\n",
       "      <td>127</td>\n",
       "      <td>127.0</td>\n",
       "    </tr>\n",
       "  </tbody>\n",
       "</table>\n",
       "<p>1000 rows × 17 columns</p>\n",
       "</div>"
      ],
      "text/plain": [
       "          job_title                                    job_description  \\\n",
       "0                na  About the team\\nZEXP is hiring an Applied Scie...   \n",
       "1    data scientist  Position Purpose:\\nThe Data Scientist is respo...   \n",
       "2    data scientist  YOUR LIFE'S MISSION: POSSIBLE\\nYou have goals,...   \n",
       "3                na  We would like to invite you to Sanofi’s mRNA V...   \n",
       "4    data scientist  About care.ai\\ncare.ai is the leading provider...   \n",
       "..              ...                                                ...   \n",
       "995  data scientist  The Home Depot is able to offer virtual employ...   \n",
       "996  data scientist  JOB SUMMARY: Design, develop and evaluate adva...   \n",
       "997  data scientist  Overview\\n\\nGuidehouse is a leading global pro...   \n",
       "998  data scientist  Location: 7000 Target Pkwy N, Brooklyn Park, M...   \n",
       "999  data scientist  Location: 7000 Target Pkwy N, Brooklyn Park, M...   \n",
       "\n",
       "     rating                    company_name               location  \\\n",
       "0       3.9                     Zillow\\n3.9                 Remote   \n",
       "1       3.8             The Home Depot\\n3.8            Atlanta, GA   \n",
       "2       4.1  Navy Federal Credit Union\\n4.1             Vienna, VA   \n",
       "3       3.9                     Sanofi\\n3.9            Waltham, MA   \n",
       "4      -1.0                         care.ai                 Remote   \n",
       "..      ...                             ...                    ...   \n",
       "995     3.8             The Home Depot\\n3.8            Atlanta, GA   \n",
       "996     4.0          Universal Orlando\\n4.0            Orlando, FL   \n",
       "997     3.7                 Guidehouse\\n3.7  Washington Harbor, WA   \n",
       "998     3.6                     Target\\n3.6      Brooklyn Park, MN   \n",
       "999     3.6                     Target\\n3.6      Brooklyn Park, MN   \n",
       "\n",
       "     headquarters                     size  founded  \\\n",
       "0              -1  5001 to 10000 Employees     2005   \n",
       "1              -1         10000+ Employees     1978   \n",
       "2              -1         10000+ Employees     1933   \n",
       "3              -1         10000+ Employees     1973   \n",
       "4              -1                       -1       -1   \n",
       "..            ...                      ...      ...   \n",
       "995            -1         10000+ Employees     1978   \n",
       "996            -1         10000+ Employees     1987   \n",
       "997            -1   1001 to 5000 Employees     2018   \n",
       "998            -1         10000+ Employees     1962   \n",
       "999            -1         10000+ Employees     1962   \n",
       "\n",
       "                  type_of_ownership                            industry  \\\n",
       "0                  Company - Public                         Real Estate   \n",
       "1                  Company - Public  Home Furniture & Housewares Stores   \n",
       "2                     Self-employed                   Banking & Lending   \n",
       "3                  Company - Public           Biotech & Pharmaceuticals   \n",
       "4                                -1                                  -1   \n",
       "..                              ...                                 ...   \n",
       "995                Company - Public  Home Furniture & Housewares Stores   \n",
       "996  Subsidiary or Business Segment                    Hotels & Resorts   \n",
       "997               Company - Private                 Business Consulting   \n",
       "998                Company - Public   General Merchandise & Superstores   \n",
       "999                Company - Public   General Merchandise & Superstores   \n",
       "\n",
       "                             sector                   revenue  competitors  \\\n",
       "0                       Real Estate    $1 to $5 billion (USD)           -1   \n",
       "1                Retail & Wholesale        $10+ billion (USD)           -1   \n",
       "2                Financial Services  Unknown / Non-Applicable           -1   \n",
       "3    Pharmaceutical & Biotechnology        $10+ billion (USD)           -1   \n",
       "4                                -1                        -1           -1   \n",
       "..                              ...                       ...          ...   \n",
       "995              Retail & Wholesale        $10+ billion (USD)           -1   \n",
       "996   Hotels & Travel Accommodation    $1 to $5 billion (USD)           -1   \n",
       "997         Management & Consulting  Unknown / Non-Applicable           -1   \n",
       "998              Retail & Wholesale        $10+ billion (USD)           -1   \n",
       "999              Retail & Wholesale        $10+ billion (USD)           -1   \n",
       "\n",
       "    seniority  salary_min  salary_max  salary_avg  \n",
       "0          na         127         203       165.0  \n",
       "1          na         127         203       165.0  \n",
       "2          na         127         203       165.0  \n",
       "3          na         127         203       165.0  \n",
       "4          na         127         203       165.0  \n",
       "..        ...         ...         ...         ...  \n",
       "995    senior         127         127       127.0  \n",
       "996        na         127         127       127.0  \n",
       "997    senior         127         127       127.0  \n",
       "998    senior         127         127       127.0  \n",
       "999    senior         127         127       127.0  \n",
       "\n",
       "[1000 rows x 17 columns]"
      ]
     },
     "execution_count": 7,
     "metadata": {},
     "output_type": "execute_result"
    }
   ],
   "source": [
    "# create new features salary_min and salary_max in another dataframe\n",
    "pattern = '(?P<salary_min>.*)-(?P<salary_max>.*)'\n",
    "new_salary = df['salary_estimate'].str.extract(pattern).astype('int')\n",
    "# concat df and new_salary\n",
    "df = pd.concat([df, new_salary], axis=1)\n",
    "# create new feature salary_avg\n",
    "df['salary_avg'] = (df['salary_min'] + df['salary_max']) / 2\n",
    "# drop salary_estimate\n",
    "df.drop(['salary_estimate'], axis=1, inplace=True)\n",
    "\n",
    "# check results\n",
    "df"
   ]
  },
  {
   "cell_type": "markdown",
   "id": "b2c1532f-c84b-40f8-97ba-36b69f5e97bd",
   "metadata": {},
   "source": [
    "### *`job_description`*\n",
    "- From *`job_description`*, create a new feature *`description_len`* to count the length of the job description"
   ]
  },
  {
   "cell_type": "code",
   "execution_count": 8,
   "id": "62a63813-6994-4d0f-ab07-fc0e3e4ca8b9",
   "metadata": {},
   "outputs": [
    {
     "data": {
      "text/plain": [
       "0      1727\n",
       "1      1508\n",
       "2       550\n",
       "3       873\n",
       "4       580\n",
       "       ... \n",
       "995    1787\n",
       "996     967\n",
       "997     910\n",
       "998    1138\n",
       "999    1011\n",
       "Name: description_len, Length: 1000, dtype: int64"
      ]
     },
     "execution_count": 8,
     "metadata": {},
     "output_type": "execute_result"
    }
   ],
   "source": [
    "# create new feature description_len to count the length of the job description\n",
    "df['description_len'] = df['job_description'].apply(len) \n",
    "\n",
    "# check results\n",
    "df['description_len']"
   ]
  },
  {
   "cell_type": "markdown",
   "id": "5241159d-c1f5-42e1-9831-635dda2cafc4",
   "metadata": {},
   "source": [
    "### *`skills`* (fix glassdoor scraper later)"
   ]
  },
  {
   "cell_type": "code",
   "execution_count": 9,
   "id": "e5199d38-5d56-49ce-9cee-cf240efcef6a",
   "metadata": {},
   "outputs": [],
   "source": [
    "#df['is_excel'] = df['skills'].apply(lambda x: 1 if re.search('\\Wexcel\\W', x.lower()) else 0)\n",
    "#df['is_sql'] = df['skills'].apply(lambda x: 1 if 'sql' in x.lower() else 0)\n",
    "#df['is_python'] = df['skills'].apply(lambda x: 1 if 'python' in x.lower() else 0)\n",
    "#df['is_r'] = df['skills'].apply(lambda x: 1 if re.search('\\Wr\\W', x.lower()) else 0)\n",
    "#df['is_tableau'] = df['skills'].apply(lambda x: 1 if 'tableau' in x.lower() else 0)\n",
    "#df['is_spark'] = df['skills'].apply(lambda x: 1 if 'spark' in x.lower() else 0)\n",
    "#df['is_aws'] = df['skills'].apply(lambda x: 1 if 'aws' in x.lower() else 0)"
   ]
  },
  {
   "cell_type": "markdown",
   "id": "208d947a-cf73-4455-b830-a2e920b2ae78",
   "metadata": {
    "tags": []
   },
   "source": [
    "### *`company_name`*\n",
    "- Remove the new line and rating"
   ]
  },
  {
   "cell_type": "code",
   "execution_count": 10,
   "id": "e567f428-523a-4c9b-9e45-b757a8062126",
   "metadata": {},
   "outputs": [
    {
     "data": {
      "text/plain": [
       "0                         Zillow\\n3.9\n",
       "1                 The Home Depot\\n3.8\n",
       "2      Navy Federal Credit Union\\n4.1\n",
       "3                         Sanofi\\n3.9\n",
       "4                             care.ai\n",
       "                    ...              \n",
       "995               The Home Depot\\n3.8\n",
       "996            Universal Orlando\\n4.0\n",
       "997                   Guidehouse\\n3.7\n",
       "998                       Target\\n3.6\n",
       "999                       Target\\n3.6\n",
       "Name: company_name, Length: 1000, dtype: object"
      ]
     },
     "execution_count": 10,
     "metadata": {},
     "output_type": "execute_result"
    }
   ],
   "source": [
    "df['company_name']"
   ]
  },
  {
   "cell_type": "code",
   "execution_count": 11,
   "id": "1091c56e-35db-4004-8ae0-b5bb3f954fa6",
   "metadata": {
    "tags": []
   },
   "outputs": [
    {
     "data": {
      "text/plain": [
       "0                         Zillow\n",
       "1                 The Home Depot\n",
       "2      Navy Federal Credit Union\n",
       "3                         Sanofi\n",
       "4                        care.ai\n",
       "                 ...            \n",
       "995               The Home Depot\n",
       "996            Universal Orlando\n",
       "997                   Guidehouse\n",
       "998                       Target\n",
       "999                       Target\n",
       "Name: company_name, Length: 1000, dtype: object"
      ]
     },
     "execution_count": 11,
     "metadata": {},
     "output_type": "execute_result"
    }
   ],
   "source": [
    "# remove new line and rating if rating exists\n",
    "df['company_name'] = df.apply(lambda x: x['company_name'] if x['rating'] < 0 else x['company_name'][:-4], axis=1)\n",
    "\n",
    "# check results\n",
    "df['company_name']"
   ]
  },
  {
   "cell_type": "markdown",
   "id": "3880e34a-74ca-4fff-a252-5eb6f48084c4",
   "metadata": {},
   "source": [
    "### *`location`*\n",
    "- Keeps the `Remote` and the 2-digit state abbreviations\n",
    "- Fix values which are not mentioned above"
   ]
  },
  {
   "cell_type": "code",
   "execution_count": 12,
   "id": "bd1dafe9-dd9b-4689-a36f-e9de23ebf30a",
   "metadata": {
    "tags": []
   },
   "outputs": [
    {
     "data": {
      "text/plain": [
       "Remote                   176\n",
       "Atlanta, GA              143\n",
       "Hartford, CT              75\n",
       "Washington Harbor, WA     58\n",
       "Brooklyn Park, MN         53\n",
       "                        ... \n",
       "Urbandale, IA              1\n",
       "Tysons Corner, VA          1\n",
       "Waltham, MA                1\n",
       "Arizona                    1\n",
       "Tennessee City, TN         1\n",
       "Name: location, Length: 67, dtype: int64"
      ]
     },
     "execution_count": 12,
     "metadata": {},
     "output_type": "execute_result"
    }
   ],
   "source": [
    "df['location'].value_counts()"
   ]
  },
  {
   "cell_type": "code",
   "execution_count": 13,
   "id": "0a53dc4f-e7c4-49f3-a53f-667280682110",
   "metadata": {},
   "outputs": [
    {
     "data": {
      "text/plain": [
       "Remote            176\n",
       "GA                145\n",
       "CA                116\n",
       "WA                 81\n",
       "CT                 75\n",
       "VA                 75\n",
       "MN                 53\n",
       "TX                 39\n",
       "NY                 39\n",
       "CO                 38\n",
       "FL                 33\n",
       "NJ                 31\n",
       "IL                 31\n",
       "MA                 16\n",
       "DC                 14\n",
       "AZ                  9\n",
       "New York State      9\n",
       "NV                  4\n",
       "OH                  3\n",
       "MO                  2\n",
       "United States       2\n",
       "MD                  2\n",
       "DE                  2\n",
       "IA                  1\n",
       "TN                  1\n",
       "SC                  1\n",
       "NC                  1\n",
       "Arizona             1\n",
       "Name: location, dtype: int64"
      ]
     },
     "execution_count": 13,
     "metadata": {},
     "output_type": "execute_result"
    }
   ],
   "source": [
    "# keeps the remote and abbreviations\n",
    "df['location'] = df['location'].apply(lambda x: x.split(', ')[1] if x.find(',') != -1 else x)\n",
    "\n",
    "# check results\n",
    "df['location'].value_counts()"
   ]
  },
  {
   "cell_type": "markdown",
   "id": "5f840d36-d0a5-41b9-a282-6489e5acdff5",
   "metadata": {
    "tags": []
   },
   "source": [
    "Fix errors:\n",
    "- `New York State` &rarr; `NY`\n",
    "- *`United States`* &rarr; *`Remote`*\n",
    "- *`Arizona`* &rarr; *`AZ`*"
   ]
  },
  {
   "cell_type": "code",
   "execution_count": 14,
   "id": "53f3db4b-03a4-4c26-8079-9fc7867bb515",
   "metadata": {},
   "outputs": [
    {
     "data": {
      "text/plain": [
       "Remote    178\n",
       "GA        145\n",
       "CA        116\n",
       "WA         81\n",
       "CT         75\n",
       "VA         75\n",
       "MN         53\n",
       "NY         48\n",
       "TX         39\n",
       "CO         38\n",
       "FL         33\n",
       "IL         31\n",
       "NJ         31\n",
       "MA         16\n",
       "DC         14\n",
       "AZ         10\n",
       "NV          4\n",
       "OH          3\n",
       "DE          2\n",
       "MD          2\n",
       "MO          2\n",
       "TN          1\n",
       "SC          1\n",
       "IA          1\n",
       "NC          1\n",
       "Name: location, dtype: int64"
      ]
     },
     "execution_count": 14,
     "metadata": {},
     "output_type": "execute_result"
    }
   ],
   "source": [
    "fix = {'New York State': 'NY',\n",
    "       'United States': 'Remote',\n",
    "       'Arizona': 'AZ'}\n",
    "\n",
    "df['location'] = df['location'].replace(fix)\n",
    "\n",
    "# check results\n",
    "df['location'].value_counts()"
   ]
  },
  {
   "cell_type": "markdown",
   "id": "edb2b406-5d88-498d-9084-4f0de0800048",
   "metadata": {},
   "source": [
    "### *`size`*\n",
    "- `-1` &rarr; `Unknown`"
   ]
  },
  {
   "cell_type": "code",
   "execution_count": 16,
   "id": "53d2cc5c-219f-4e5c-af0c-cd33ef80249a",
   "metadata": {},
   "outputs": [
    {
     "data": {
      "text/plain": [
       "10000+ Employees           547\n",
       "1001 to 5000 Employees      97\n",
       "51 to 200 Employees         91\n",
       "-1                          85\n",
       "5001 to 10000 Employees     74\n",
       "201 to 500 Employees        45\n",
       "1 to 50 Employees           43\n",
       "Unknown                     12\n",
       "501 to 1000 Employees        6\n",
       "Name: size, dtype: int64"
      ]
     },
     "execution_count": 16,
     "metadata": {},
     "output_type": "execute_result"
    }
   ],
   "source": [
    "df['size'].value_counts()"
   ]
  },
  {
   "cell_type": "code",
   "execution_count": 17,
   "id": "a4870ca6-ce0f-4d8d-a286-544d2db631d6",
   "metadata": {},
   "outputs": [
    {
     "data": {
      "text/plain": [
       "10000+ Employees           547\n",
       "Unknown                     97\n",
       "1001 to 5000 Employees      97\n",
       "51 to 200 Employees         91\n",
       "5001 to 10000 Employees     74\n",
       "201 to 500 Employees        45\n",
       "1 to 50 Employees           43\n",
       "501 to 1000 Employees        6\n",
       "Name: size, dtype: int64"
      ]
     },
     "execution_count": 17,
     "metadata": {},
     "output_type": "execute_result"
    }
   ],
   "source": [
    "df['size'] = df['size'].str.replace('-1', 'Unknown')\n",
    "\n",
    "# check results\n",
    "df['size'].value_counts()"
   ]
  },
  {
   "cell_type": "markdown",
   "id": "a929c653-d0ce-425e-bd82-9d74f8a93625",
   "metadata": {},
   "source": [
    "### *`founded`*\n",
    "- 2022 - founded year"
   ]
  },
  {
   "cell_type": "code",
   "execution_count": 18,
   "id": "864a63ed-ff9a-454e-939b-a44b5e224425",
   "metadata": {},
   "outputs": [
    {
     "data": {
      "text/plain": [
       "0      2005\n",
       "1      1978\n",
       "2      1933\n",
       "3      1973\n",
       "4        -1\n",
       "       ... \n",
       "995    1978\n",
       "996    1987\n",
       "997    2018\n",
       "998    1962\n",
       "999    1962\n",
       "Name: founded, Length: 1000, dtype: int64"
      ]
     },
     "execution_count": 18,
     "metadata": {},
     "output_type": "execute_result"
    }
   ],
   "source": [
    "df['founded']"
   ]
  },
  {
   "cell_type": "code",
   "execution_count": 19,
   "id": "80d58e21-83dc-4766-9e0f-e31408093174",
   "metadata": {},
   "outputs": [
    {
     "name": "stdout",
     "output_type": "stream",
     "text": [
      "False\n",
      "\n",
      "\n"
     ]
    },
    {
     "data": {
      "text/plain": [
       "0      17\n",
       "1      44\n",
       "2      89\n",
       "3      49\n",
       "4      -1\n",
       "       ..\n",
       "995    44\n",
       "996    35\n",
       "997     4\n",
       "998    60\n",
       "999    60\n",
       "Name: age, Length: 1000, dtype: int64"
      ]
     },
     "execution_count": 19,
     "metadata": {},
     "output_type": "execute_result"
    }
   ],
   "source": [
    "df['age'] = df['founded'].apply(lambda x: 2022-x if x != -1 else x)\n",
    "df.drop(['founded'], axis=1, inplace=True)\n",
    "# check results\n",
    "print('headquarters' in df.columns)\n",
    "print('\\n')\n",
    "df['age']"
   ]
  },
  {
   "cell_type": "markdown",
   "id": "20a3ef18-06ba-4f2c-9614-9006c798e430",
   "metadata": {},
   "source": [
    "### *`revenue`*\n",
    "- `-1` &rarr; `Unknown / Non-Applicable`"
   ]
  },
  {
   "cell_type": "code",
   "execution_count": 20,
   "id": "58e88794-e36f-462d-b253-e4ec438e0113",
   "metadata": {},
   "outputs": [
    {
     "data": {
      "text/plain": [
       "$10+ billion (USD)                  426\n",
       "Unknown / Non-Applicable            232\n",
       "$1 to $5 billion (USD)               87\n",
       "-1                                   85\n",
       "$25 to $100 million (USD)            53\n",
       "$5 to $10 billion (USD)              33\n",
       "$5 to $25 million (USD)              31\n",
       "$100 to $500 million (USD)           25\n",
       "$1 to $5 million (USD)               18\n",
       "$500 million to $1 billion (USD)      9\n",
       "Less than $1 million (USD)            1\n",
       "Name: revenue, dtype: int64"
      ]
     },
     "execution_count": 20,
     "metadata": {},
     "output_type": "execute_result"
    }
   ],
   "source": [
    "df['revenue'].value_counts()"
   ]
  },
  {
   "cell_type": "code",
   "execution_count": 21,
   "id": "48f6aa39-e066-4eca-9dce-16b050cb175c",
   "metadata": {},
   "outputs": [
    {
     "data": {
      "text/plain": [
       "$10+ billion (USD)                  426\n",
       "Unknown / Non-Applicable            317\n",
       "$1 to $5 billion (USD)               87\n",
       "$25 to $100 million (USD)            53\n",
       "$5 to $10 billion (USD)              33\n",
       "$5 to $25 million (USD)              31\n",
       "$100 to $500 million (USD)           25\n",
       "$1 to $5 million (USD)               18\n",
       "$500 million to $1 billion (USD)      9\n",
       "Less than $1 million (USD)            1\n",
       "Name: revenue, dtype: int64"
      ]
     },
     "execution_count": 21,
     "metadata": {},
     "output_type": "execute_result"
    }
   ],
   "source": [
    "df['revenue'] = df['revenue'].str.replace('-1', 'Unknown / Non-Applicable')\n",
    "\n",
    "# check results\n",
    "df['revenue'].value_counts()"
   ]
  },
  {
   "cell_type": "code",
   "execution_count": null,
   "id": "1a02fcf0-dd10-4e08-825a-2641539ea20a",
   "metadata": {},
   "outputs": [],
   "source": [
    "df.to_csv('glassdoor_jobs_cleaned.csv', index=False)"
   ]
  },
  {
   "cell_type": "code",
   "execution_count": null,
   "id": "b68a4e50-9074-418e-af80-1fcd22430eb2",
   "metadata": {},
   "outputs": [],
   "source": []
  }
 ],
 "metadata": {
  "kernelspec": {
   "display_name": "Python 3 (ipykernel)",
   "language": "python",
   "name": "python3"
  },
  "language_info": {
   "codemirror_mode": {
    "name": "ipython",
    "version": 3
   },
   "file_extension": ".py",
   "mimetype": "text/x-python",
   "name": "python",
   "nbconvert_exporter": "python",
   "pygments_lexer": "ipython3",
   "version": "3.8.3"
  }
 },
 "nbformat": 4,
 "nbformat_minor": 5
}
