{
 "cells": [
  {
   "cell_type": "markdown",
   "id": "8780b09c-4906-47bd-9db3-8742f0c58923",
   "metadata": {
    "tags": []
   },
   "source": [
    "# Data Cleaning"
   ]
  },
  {
   "cell_type": "markdown",
   "id": "08e75f50-0c4a-4499-960a-386e01b187ab",
   "metadata": {
    "tags": []
   },
   "source": [
    "## Import Libraires and Job Data"
   ]
  },
  {
   "cell_type": "code",
   "execution_count": 56,
   "id": "4de2257b-8e71-4209-8b76-8fbcad4065e4",
   "metadata": {},
   "outputs": [],
   "source": [
    "import pandas as pd\n",
    "import re"
   ]
  },
  {
   "cell_type": "code",
   "execution_count": 99,
   "id": "9d0bfe36-5cfc-42c7-b482-644440347f15",
   "metadata": {},
   "outputs": [
    {
     "data": {
      "text/html": [
       "<div>\n",
       "<style scoped>\n",
       "    .dataframe tbody tr th:only-of-type {\n",
       "        vertical-align: middle;\n",
       "    }\n",
       "\n",
       "    .dataframe tbody tr th {\n",
       "        vertical-align: top;\n",
       "    }\n",
       "\n",
       "    .dataframe thead th {\n",
       "        text-align: right;\n",
       "    }\n",
       "</style>\n",
       "<table border=\"1\" class=\"dataframe\">\n",
       "  <thead>\n",
       "    <tr style=\"text-align: right;\">\n",
       "      <th></th>\n",
       "      <th>Job Title</th>\n",
       "      <th>Salary Estimate</th>\n",
       "      <th>Job Description</th>\n",
       "      <th>Rating</th>\n",
       "      <th>Company Name</th>\n",
       "      <th>Location</th>\n",
       "      <th>Headquarters</th>\n",
       "      <th>Size</th>\n",
       "      <th>Founded</th>\n",
       "      <th>Type of ownership</th>\n",
       "      <th>Industry</th>\n",
       "      <th>Sector</th>\n",
       "      <th>Revenue</th>\n",
       "      <th>Competitors</th>\n",
       "    </tr>\n",
       "  </thead>\n",
       "  <tbody>\n",
       "    <tr>\n",
       "      <th>0</th>\n",
       "      <td>Applied Scientist</td>\n",
       "      <td>$127K - $203K (Employer est.)</td>\n",
       "      <td>About the team\\nZEXP is hiring an Applied Scie...</td>\n",
       "      <td>3.9</td>\n",
       "      <td>Zillow\\n3.9</td>\n",
       "      <td>Remote</td>\n",
       "      <td>-1</td>\n",
       "      <td>5001 to 10000 Employees</td>\n",
       "      <td>2005</td>\n",
       "      <td>Company - Public</td>\n",
       "      <td>Real Estate</td>\n",
       "      <td>Real Estate</td>\n",
       "      <td>$1 to $5 billion (USD)</td>\n",
       "      <td>-1</td>\n",
       "    </tr>\n",
       "    <tr>\n",
       "      <th>1</th>\n",
       "      <td>Data Scientist, Marketing &amp; Online (Remote)</td>\n",
       "      <td>$127K - $203K (Employer est.)</td>\n",
       "      <td>Position Purpose:\\nThe Data Scientist is respo...</td>\n",
       "      <td>3.8</td>\n",
       "      <td>The Home Depot\\n3.8</td>\n",
       "      <td>Atlanta, GA</td>\n",
       "      <td>-1</td>\n",
       "      <td>10000+ Employees</td>\n",
       "      <td>1978</td>\n",
       "      <td>Company - Public</td>\n",
       "      <td>Home Furniture &amp; Housewares Stores</td>\n",
       "      <td>Retail &amp; Wholesale</td>\n",
       "      <td>$10+ billion (USD)</td>\n",
       "      <td>-1</td>\n",
       "    </tr>\n",
       "    <tr>\n",
       "      <th>2</th>\n",
       "      <td>Data Scientist I</td>\n",
       "      <td>$127K - $203K (Employer est.)</td>\n",
       "      <td>YOUR LIFE'S MISSION: POSSIBLE\\nYou have goals,...</td>\n",
       "      <td>4.1</td>\n",
       "      <td>Navy Federal Credit Union\\n4.1</td>\n",
       "      <td>Vienna, VA</td>\n",
       "      <td>-1</td>\n",
       "      <td>10000+ Employees</td>\n",
       "      <td>1933</td>\n",
       "      <td>Self-employed</td>\n",
       "      <td>Banking &amp; Lending</td>\n",
       "      <td>Financial Services</td>\n",
       "      <td>Unknown / Non-Applicable</td>\n",
       "      <td>-1</td>\n",
       "    </tr>\n",
       "    <tr>\n",
       "      <th>3</th>\n",
       "      <td>Data Science - Sanofi mRNA Virtual Career Fair...</td>\n",
       "      <td>$127K - $203K (Employer est.)</td>\n",
       "      <td>We would like to invite you to Sanofi’s mRNA V...</td>\n",
       "      <td>3.9</td>\n",
       "      <td>Sanofi\\n3.9</td>\n",
       "      <td>Waltham, MA</td>\n",
       "      <td>-1</td>\n",
       "      <td>10000+ Employees</td>\n",
       "      <td>1973</td>\n",
       "      <td>Company - Public</td>\n",
       "      <td>Biotech &amp; Pharmaceuticals</td>\n",
       "      <td>Pharmaceutical &amp; Biotechnology</td>\n",
       "      <td>$10+ billion (USD)</td>\n",
       "      <td>-1</td>\n",
       "    </tr>\n",
       "    <tr>\n",
       "      <th>4</th>\n",
       "      <td>Computer Vision / AI Data Scientist</td>\n",
       "      <td>$127K - $203K (Employer est.)</td>\n",
       "      <td>About care.ai\\ncare.ai is the leading provider...</td>\n",
       "      <td>-1.0</td>\n",
       "      <td>care.ai</td>\n",
       "      <td>Remote</td>\n",
       "      <td>-1</td>\n",
       "      <td>-1</td>\n",
       "      <td>-1</td>\n",
       "      <td>-1</td>\n",
       "      <td>-1</td>\n",
       "      <td>-1</td>\n",
       "      <td>-1</td>\n",
       "      <td>-1</td>\n",
       "    </tr>\n",
       "    <tr>\n",
       "      <th>...</th>\n",
       "      <td>...</td>\n",
       "      <td>...</td>\n",
       "      <td>...</td>\n",
       "      <td>...</td>\n",
       "      <td>...</td>\n",
       "      <td>...</td>\n",
       "      <td>...</td>\n",
       "      <td>...</td>\n",
       "      <td>...</td>\n",
       "      <td>...</td>\n",
       "      <td>...</td>\n",
       "      <td>...</td>\n",
       "      <td>...</td>\n",
       "      <td>...</td>\n",
       "    </tr>\n",
       "    <tr>\n",
       "      <th>995</th>\n",
       "      <td>Principal Data Scientist, Online Marketing (Re...</td>\n",
       "      <td>$127K (Employer est.)</td>\n",
       "      <td>The Home Depot is able to offer virtual employ...</td>\n",
       "      <td>3.8</td>\n",
       "      <td>The Home Depot\\n3.8</td>\n",
       "      <td>Atlanta, GA</td>\n",
       "      <td>-1</td>\n",
       "      <td>10000+ Employees</td>\n",
       "      <td>1978</td>\n",
       "      <td>Company - Public</td>\n",
       "      <td>Home Furniture &amp; Housewares Stores</td>\n",
       "      <td>Retail &amp; Wholesale</td>\n",
       "      <td>$10+ billion (USD)</td>\n",
       "      <td>-1</td>\n",
       "    </tr>\n",
       "    <tr>\n",
       "      <th>996</th>\n",
       "      <td>Data Scientist, Audience Data Science - Market...</td>\n",
       "      <td>$127K (Employer est.)</td>\n",
       "      <td>JOB SUMMARY: Design, develop and evaluate adva...</td>\n",
       "      <td>4.0</td>\n",
       "      <td>Universal Orlando\\n4.0</td>\n",
       "      <td>Orlando, FL</td>\n",
       "      <td>-1</td>\n",
       "      <td>10000+ Employees</td>\n",
       "      <td>1987</td>\n",
       "      <td>Subsidiary or Business Segment</td>\n",
       "      <td>Hotels &amp; Resorts</td>\n",
       "      <td>Hotels &amp; Travel Accommodation</td>\n",
       "      <td>$1 to $5 billion (USD)</td>\n",
       "      <td>-1</td>\n",
       "    </tr>\n",
       "    <tr>\n",
       "      <th>997</th>\n",
       "      <td>AI/ML Health Data Scientist – Senior Consultant</td>\n",
       "      <td>$127K (Employer est.)</td>\n",
       "      <td>Overview\\n\\nGuidehouse is a leading global pro...</td>\n",
       "      <td>3.7</td>\n",
       "      <td>Guidehouse\\n3.7</td>\n",
       "      <td>Washington Harbor, WA</td>\n",
       "      <td>-1</td>\n",
       "      <td>1001 to 5000 Employees</td>\n",
       "      <td>2018</td>\n",
       "      <td>Company - Private</td>\n",
       "      <td>Business Consulting</td>\n",
       "      <td>Management &amp; Consulting</td>\n",
       "      <td>Unknown / Non-Applicable</td>\n",
       "      <td>-1</td>\n",
       "    </tr>\n",
       "    <tr>\n",
       "      <th>998</th>\n",
       "      <td>Lead Data Scientist - Forecasting (Full-Time R...</td>\n",
       "      <td>$127K (Employer est.)</td>\n",
       "      <td>Location: 7000 Target Pkwy N, Brooklyn Park, M...</td>\n",
       "      <td>3.6</td>\n",
       "      <td>Target\\n3.6</td>\n",
       "      <td>Brooklyn Park, MN</td>\n",
       "      <td>-1</td>\n",
       "      <td>10000+ Employees</td>\n",
       "      <td>1962</td>\n",
       "      <td>Company - Public</td>\n",
       "      <td>General Merchandise &amp; Superstores</td>\n",
       "      <td>Retail &amp; Wholesale</td>\n",
       "      <td>$10+ billion (USD)</td>\n",
       "      <td>-1</td>\n",
       "    </tr>\n",
       "    <tr>\n",
       "      <th>999</th>\n",
       "      <td>Sr Data Scientist - Demand Forecasting (Full-T...</td>\n",
       "      <td>$127K (Employer est.)</td>\n",
       "      <td>Location: 7000 Target Pkwy N, Brooklyn Park, M...</td>\n",
       "      <td>3.6</td>\n",
       "      <td>Target\\n3.6</td>\n",
       "      <td>Brooklyn Park, MN</td>\n",
       "      <td>-1</td>\n",
       "      <td>10000+ Employees</td>\n",
       "      <td>1962</td>\n",
       "      <td>Company - Public</td>\n",
       "      <td>General Merchandise &amp; Superstores</td>\n",
       "      <td>Retail &amp; Wholesale</td>\n",
       "      <td>$10+ billion (USD)</td>\n",
       "      <td>-1</td>\n",
       "    </tr>\n",
       "  </tbody>\n",
       "</table>\n",
       "<p>1000 rows × 14 columns</p>\n",
       "</div>"
      ],
      "text/plain": [
       "                                             Job Title  \\\n",
       "0                                    Applied Scientist   \n",
       "1          Data Scientist, Marketing & Online (Remote)   \n",
       "2                                     Data Scientist I   \n",
       "3    Data Science - Sanofi mRNA Virtual Career Fair...   \n",
       "4                  Computer Vision / AI Data Scientist   \n",
       "..                                                 ...   \n",
       "995  Principal Data Scientist, Online Marketing (Re...   \n",
       "996  Data Scientist, Audience Data Science - Market...   \n",
       "997    AI/ML Health Data Scientist – Senior Consultant   \n",
       "998  Lead Data Scientist - Forecasting (Full-Time R...   \n",
       "999  Sr Data Scientist - Demand Forecasting (Full-T...   \n",
       "\n",
       "                   Salary Estimate  \\\n",
       "0    $127K - $203K (Employer est.)   \n",
       "1    $127K - $203K (Employer est.)   \n",
       "2    $127K - $203K (Employer est.)   \n",
       "3    $127K - $203K (Employer est.)   \n",
       "4    $127K - $203K (Employer est.)   \n",
       "..                             ...   \n",
       "995          $127K (Employer est.)   \n",
       "996          $127K (Employer est.)   \n",
       "997          $127K (Employer est.)   \n",
       "998          $127K (Employer est.)   \n",
       "999          $127K (Employer est.)   \n",
       "\n",
       "                                       Job Description  Rating  \\\n",
       "0    About the team\\nZEXP is hiring an Applied Scie...     3.9   \n",
       "1    Position Purpose:\\nThe Data Scientist is respo...     3.8   \n",
       "2    YOUR LIFE'S MISSION: POSSIBLE\\nYou have goals,...     4.1   \n",
       "3    We would like to invite you to Sanofi’s mRNA V...     3.9   \n",
       "4    About care.ai\\ncare.ai is the leading provider...    -1.0   \n",
       "..                                                 ...     ...   \n",
       "995  The Home Depot is able to offer virtual employ...     3.8   \n",
       "996  JOB SUMMARY: Design, develop and evaluate adva...     4.0   \n",
       "997  Overview\\n\\nGuidehouse is a leading global pro...     3.7   \n",
       "998  Location: 7000 Target Pkwy N, Brooklyn Park, M...     3.6   \n",
       "999  Location: 7000 Target Pkwy N, Brooklyn Park, M...     3.6   \n",
       "\n",
       "                       Company Name               Location  Headquarters  \\\n",
       "0                       Zillow\\n3.9                 Remote            -1   \n",
       "1               The Home Depot\\n3.8            Atlanta, GA            -1   \n",
       "2    Navy Federal Credit Union\\n4.1             Vienna, VA            -1   \n",
       "3                       Sanofi\\n3.9            Waltham, MA            -1   \n",
       "4                           care.ai                 Remote            -1   \n",
       "..                              ...                    ...           ...   \n",
       "995             The Home Depot\\n3.8            Atlanta, GA            -1   \n",
       "996          Universal Orlando\\n4.0            Orlando, FL            -1   \n",
       "997                 Guidehouse\\n3.7  Washington Harbor, WA            -1   \n",
       "998                     Target\\n3.6      Brooklyn Park, MN            -1   \n",
       "999                     Target\\n3.6      Brooklyn Park, MN            -1   \n",
       "\n",
       "                        Size  Founded               Type of ownership  \\\n",
       "0    5001 to 10000 Employees     2005                Company - Public   \n",
       "1           10000+ Employees     1978                Company - Public   \n",
       "2           10000+ Employees     1933                   Self-employed   \n",
       "3           10000+ Employees     1973                Company - Public   \n",
       "4                         -1       -1                              -1   \n",
       "..                       ...      ...                             ...   \n",
       "995         10000+ Employees     1978                Company - Public   \n",
       "996         10000+ Employees     1987  Subsidiary or Business Segment   \n",
       "997   1001 to 5000 Employees     2018               Company - Private   \n",
       "998         10000+ Employees     1962                Company - Public   \n",
       "999         10000+ Employees     1962                Company - Public   \n",
       "\n",
       "                               Industry                          Sector  \\\n",
       "0                           Real Estate                     Real Estate   \n",
       "1    Home Furniture & Housewares Stores              Retail & Wholesale   \n",
       "2                     Banking & Lending              Financial Services   \n",
       "3             Biotech & Pharmaceuticals  Pharmaceutical & Biotechnology   \n",
       "4                                    -1                              -1   \n",
       "..                                  ...                             ...   \n",
       "995  Home Furniture & Housewares Stores              Retail & Wholesale   \n",
       "996                    Hotels & Resorts   Hotels & Travel Accommodation   \n",
       "997                 Business Consulting         Management & Consulting   \n",
       "998   General Merchandise & Superstores              Retail & Wholesale   \n",
       "999   General Merchandise & Superstores              Retail & Wholesale   \n",
       "\n",
       "                      Revenue  Competitors  \n",
       "0      $1 to $5 billion (USD)           -1  \n",
       "1          $10+ billion (USD)           -1  \n",
       "2    Unknown / Non-Applicable           -1  \n",
       "3          $10+ billion (USD)           -1  \n",
       "4                          -1           -1  \n",
       "..                        ...          ...  \n",
       "995        $10+ billion (USD)           -1  \n",
       "996    $1 to $5 billion (USD)           -1  \n",
       "997  Unknown / Non-Applicable           -1  \n",
       "998        $10+ billion (USD)           -1  \n",
       "999        $10+ billion (USD)           -1  \n",
       "\n",
       "[1000 rows x 14 columns]"
      ]
     },
     "execution_count": 99,
     "metadata": {},
     "output_type": "execute_result"
    }
   ],
   "source": [
    "df = pd.read_csv('glassdoor_jobs.csv')\n",
    "df"
   ]
  },
  {
   "cell_type": "code",
   "execution_count": null,
   "id": "a5e22080-11c1-4538-b047-e7261ea1da19",
   "metadata": {},
   "outputs": [],
   "source": [
    "# salary parsing\n",
    "# Job title and seniority\n",
    "# Fix state LA\n",
    "# JD lenth\n",
    "# hourly wage -> annual\n",
    "# remove new line"
   ]
  },
  {
   "cell_type": "markdown",
   "id": "70ad8ea3-0c1e-44af-b844-8d750fbfedd6",
   "metadata": {
    "tags": []
   },
   "source": [
    "## Rename Columns\n",
    "- Lowercase column names\n",
    "- Rename column names for better analyzing and understanding"
   ]
  },
  {
   "cell_type": "code",
   "execution_count": 103,
   "id": "31902f77-95b5-4568-b3b2-020f80b8fb7c",
   "metadata": {},
   "outputs": [
    {
     "data": {
      "text/plain": [
       "['job_title',\n",
       " 'salary_estimate',\n",
       " 'job_description',\n",
       " 'rating',\n",
       " 'company_name',\n",
       " 'location',\n",
       " 'headquarters',\n",
       " 'size',\n",
       " 'founded',\n",
       " 'type_of_ownership',\n",
       " 'industry',\n",
       " 'sector',\n",
       " 'revenue',\n",
       " 'competitors']"
      ]
     },
     "execution_count": 103,
     "metadata": {},
     "output_type": "execute_result"
    }
   ],
   "source": [
    "col_name = list(df.columns)\n",
    "df.columns = [name.lower().replace(' ', '_') for name in col_name]\n",
    "list(df.columns)"
   ]
  },
  {
   "cell_type": "markdown",
   "id": "f1b1605d-a593-4505-9bd0-3190db11b331",
   "metadata": {
    "tags": []
   },
   "source": [
    "## Clean the Dataset"
   ]
  },
  {
   "cell_type": "markdown",
   "id": "0dd2514e-2299-4a03-aaaf-df94f3663b1d",
   "metadata": {
    "tags": []
   },
   "source": [
    "### Clean the *`salary_estimate`*\n",
    "We will only keep the numbers and -"
   ]
  },
  {
   "cell_type": "code",
   "execution_count": 105,
   "id": "421cabe7-bdd7-4aad-92ef-f0436e17334a",
   "metadata": {},
   "outputs": [
    {
     "data": {
      "text/plain": [
       "$118K - $189K (Glassdoor est.)    360\n",
       "$127K (Employer est.)             340\n",
       "$135K - $175K (Employer est.)      60\n",
       "$127K - $203K (Employer est.)      30\n",
       "$96K - $131K (Glassdoor est.)      30\n",
       "$77K - $116K (Glassdoor est.)      30\n",
       "$113K - $177K (Glassdoor est.)     30\n",
       "$104K - $167K (Glassdoor est.)     30\n",
       "$86K - $132K (Glassdoor est.)      30\n",
       "$92K - $131K (Glassdoor est.)      30\n",
       "$97K - $155K (Glassdoor est.)      30\n",
       "Name: salary_estimate, dtype: int64"
      ]
     },
     "execution_count": 105,
     "metadata": {},
     "output_type": "execute_result"
    }
   ],
   "source": [
    "df['salary_estimate'].value_counts()"
   ]
  },
  {
   "cell_type": "code",
   "execution_count": 106,
   "id": "0e1443d3-46f2-41dc-bc04-d3df6d8b4a53",
   "metadata": {
    "tags": []
   },
   "outputs": [],
   "source": [
    "# clean salary (only keep numbers and -)\n",
    "salary = df['salary_estimate'].str.extract('(.*) \\(')[0]\n",
    "salary = salary.str.replace('[$K ]*', '', regex=True)\n",
    "df['salary_estimate'] = salary\n",
    "\n",
    "# show results\n",
    "df['salary_estimate'].value_counts()"
   ]
  },
  {
   "cell_type": "markdown",
   "id": "208d947a-cf73-4455-b830-a2e920b2ae78",
   "metadata": {
    "tags": []
   },
   "source": [
    "### Clean the *`company_name`*\n",
    "We will remove the new line and rating"
   ]
  },
  {
   "cell_type": "code",
   "execution_count": 111,
   "id": "e567f428-523a-4c9b-9e45-b757a8062126",
   "metadata": {},
   "outputs": [
    {
     "data": {
      "text/plain": [
       "0                         Zillow\\n3.9\n",
       "1                 The Home Depot\\n3.8\n",
       "2      Navy Federal Credit Union\\n4.1\n",
       "3                         Sanofi\\n3.9\n",
       "4                             care.ai\n",
       "                    ...              \n",
       "995               The Home Depot\\n3.8\n",
       "996            Universal Orlando\\n4.0\n",
       "997                   Guidehouse\\n3.7\n",
       "998                       Target\\n3.6\n",
       "999                       Target\\n3.6\n",
       "Name: company_name, Length: 1000, dtype: object"
      ]
     },
     "execution_count": 111,
     "metadata": {},
     "output_type": "execute_result"
    }
   ],
   "source": [
    "df['company_name']"
   ]
  },
  {
   "cell_type": "code",
   "execution_count": 112,
   "id": "1091c56e-35db-4004-8ae0-b5bb3f954fa6",
   "metadata": {
    "tags": []
   },
   "outputs": [],
   "source": [
    "# remove new line and rating if rating exists\n",
    "df['company_name'] = df.apply(lambda x: x['company_name'] if x['rating'] < 0 else x['company_name'][:-4], axis=1)\n",
    "\n",
    "# show results\n",
    "df['company_name']"
   ]
  },
  {
   "cell_type": "markdown",
   "id": "3880e34a-74ca-4fff-a252-5eb6f48084c4",
   "metadata": {},
   "source": [
    "### Clean the *`location`*\n",
    "We will only keep the state abbreviations"
   ]
  },
  {
   "cell_type": "code",
   "execution_count": 143,
   "id": "bd1dafe9-dd9b-4689-a36f-e9de23ebf30a",
   "metadata": {
    "tags": []
   },
   "outputs": [
    {
     "data": {
      "text/plain": [
       "Remote                   176\n",
       "Atlanta, GA              143\n",
       "Hartford, CT              75\n",
       "Washington Harbor, WA     58\n",
       "Brooklyn Park, MN         53\n",
       "                        ... \n",
       "Urbandale, IA              1\n",
       "Tysons Corner, VA          1\n",
       "Waltham, MA                1\n",
       "Arizona                    1\n",
       "Tennessee City, TN         1\n",
       "Name: location, Length: 67, dtype: int64"
      ]
     },
     "execution_count": 143,
     "metadata": {},
     "output_type": "execute_result"
    }
   ],
   "source": [
    "df['location'].value_counts()"
   ]
  },
  {
   "cell_type": "code",
   "execution_count": 145,
   "id": "0a53dc4f-e7c4-49f3-a53f-667280682110",
   "metadata": {},
   "outputs": [
    {
     "data": {
      "text/plain": [
       "Remote            176\n",
       "GA                145\n",
       "CA                116\n",
       "WA                 81\n",
       "CT                 75\n",
       "VA                 75\n",
       "MN                 53\n",
       "TX                 39\n",
       "NY                 39\n",
       "CO                 38\n",
       "FL                 33\n",
       "NJ                 31\n",
       "IL                 31\n",
       "MA                 16\n",
       "DC                 14\n",
       "AZ                  9\n",
       "New York State      9\n",
       "NV                  4\n",
       "OH                  3\n",
       "MO                  2\n",
       "United States       2\n",
       "MD                  2\n",
       "DE                  2\n",
       "IA                  1\n",
       "TN                  1\n",
       "SC                  1\n",
       "NC                  1\n",
       "Arizona             1\n",
       "Name: location, dtype: int64"
      ]
     },
     "execution_count": 145,
     "metadata": {},
     "output_type": "execute_result"
    }
   ],
   "source": [
    "# keep the abbreviations\n",
    "df['location'] = df['location'].apply(lambda x: x.split(', ')[1] if x.find(',') != -1 else x)\n",
    "\n",
    "# show results\n",
    "df['location'].value_counts()"
   ]
  },
  {
   "cell_type": "markdown",
   "id": "5f840d36-d0a5-41b9-a282-6489e5acdff5",
   "metadata": {
    "tags": []
   },
   "source": [
    "Fix errors:\n",
    "- *`New York State`* &rarr; *`NY`*\n",
    "- *`United States`* &rarr; *`Remote`*\n",
    "- *`Arizona`* &rarr; *`AZ`*"
   ]
  },
  {
   "cell_type": "code",
   "execution_count": 148,
   "id": "53f3db4b-03a4-4c26-8079-9fc7867bb515",
   "metadata": {},
   "outputs": [
    {
     "data": {
      "text/plain": [
       "Remote    178\n",
       "GA        145\n",
       "CA        116\n",
       "WA         81\n",
       "CT         75\n",
       "VA         75\n",
       "MN         53\n",
       "NY         48\n",
       "TX         39\n",
       "CO         38\n",
       "FL         33\n",
       "IL         31\n",
       "NJ         31\n",
       "MA         16\n",
       "DC         14\n",
       "AZ         10\n",
       "NV          4\n",
       "OH          3\n",
       "DE          2\n",
       "MD          2\n",
       "MO          2\n",
       "TN          1\n",
       "SC          1\n",
       "IA          1\n",
       "NC          1\n",
       "Name: location, dtype: int64"
      ]
     },
     "execution_count": 148,
     "metadata": {},
     "output_type": "execute_result"
    }
   ],
   "source": [
    "fix = {'New York State': 'NY',\n",
    "       'United States': 'Remote',\n",
    "       'Arizona': 'AZ'}\n",
    "\n",
    "df['location'] = df['location'].replace(fix)\n",
    "\n",
    "# show results\n",
    "df['location'].value_counts()"
   ]
  },
  {
   "cell_type": "markdown",
   "id": "ae6400d0-ad88-48e6-9457-9d17fb118bcb",
   "metadata": {},
   "source": [
    "### Clean *`headquarters`*\n",
    "Drop the whole column because there is no information"
   ]
  },
  {
   "cell_type": "code",
   "execution_count": 150,
   "id": "ffb159b0-9464-4e3e-81db-d04c42b2e27d",
   "metadata": {},
   "outputs": [
    {
     "data": {
      "text/plain": [
       "-1    1000\n",
       "Name: headquarters, dtype: int64"
      ]
     },
     "execution_count": 150,
     "metadata": {},
     "output_type": "execute_result"
    }
   ],
   "source": [
    "df['headquarters'].value_counts()"
   ]
  },
  {
   "cell_type": "code",
   "execution_count": 154,
   "id": "53992d18-78e9-4246-bca5-cf95da08fe41",
   "metadata": {},
   "outputs": [
    {
     "data": {
      "text/plain": [
       "['job_title',\n",
       " 'salary_estimate',\n",
       " 'job_description',\n",
       " 'rating',\n",
       " 'company_name',\n",
       " 'location',\n",
       " 'size',\n",
       " 'founded',\n",
       " 'type_of_ownership',\n",
       " 'industry',\n",
       " 'sector',\n",
       " 'revenue',\n",
       " 'competitors']"
      ]
     },
     "execution_count": 154,
     "metadata": {},
     "output_type": "execute_result"
    }
   ],
   "source": [
    "df.drop(['headquarters'], axis=1, inplace=True)\n",
    "\n",
    "# show results\n",
    "list(df.columns)"
   ]
  },
  {
   "cell_type": "code",
   "execution_count": null,
   "id": "1e3f76f2-3483-44fe-ba1f-90c194fdaadc",
   "metadata": {},
   "outputs": [],
   "source": []
  }
 ],
 "metadata": {
  "kernelspec": {
   "display_name": "Python 3 (ipykernel)",
   "language": "python",
   "name": "python3"
  },
  "language_info": {
   "codemirror_mode": {
    "name": "ipython",
    "version": 3
   },
   "file_extension": ".py",
   "mimetype": "text/x-python",
   "name": "python",
   "nbconvert_exporter": "python",
   "pygments_lexer": "ipython3",
   "version": "3.8.3"
  }
 },
 "nbformat": 4,
 "nbformat_minor": 5
}
